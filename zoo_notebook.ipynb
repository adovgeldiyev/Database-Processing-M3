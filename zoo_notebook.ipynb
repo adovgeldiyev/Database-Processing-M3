{
 "cells": [
  {
   "cell_type": "code",
   "execution_count": 1,
   "metadata": {},
   "outputs": [],
   "source": [
    "createtbl = \"\"\"\n",
    "CREATE TABLE Animal\n",
    "(\n",
    "  AID       NUMBER(3, 0),\n",
    "  AName      VARCHAR2(30) NOT NULL,\n",
    "  ACategory VARCHAR2(18),\n",
    "\n",
    "  TimeToFeed NUMBER(4,2),\n",
    "\n",
    "  CONSTRAINT Animal_PK\n",
    "    PRIMARY KEY(AID)\n",
    ");\n",
    "\"\"\""
   ]
  },
  {
   "cell_type": "code",
   "execution_count": 2,
   "metadata": {},
   "outputs": [],
   "source": [
    "inserts = [\"INSERT INTO Animal VALUES(1, 'Galapagos Penguin', 'exotic', 0.5);\", \n",
    "           \"INSERT INTO Animal VALUES(2, 'Emperor Penguin', 'rare', 0.75);\", \n",
    "           \"INSERT INTO Animal VALUES(3, 'Sri Lankan sloth bear', 'exotic', 2.5);\", \n",
    "           \"INSERT INTO Animal VALUES(4, 'Grizzly bear', 'common', 3.0);\", \n",
    "           \"INSERT INTO Animal VALUES(5, 'Giant Panda bear', 'exotic', 1.5);\",\n",
    "           \"INSERT INTO Animal VALUES(6, 'Florida black bear', 'rare', 1.75);\", \n",
    "           \"INSERT INTO Animal VALUES(7, 'Siberian tiger', 'rare', 3.25);\", \n",
    "           \"INSERT INTO Animal VALUES(8, 'Bengal tiger', 'common', 2.75);\", \n",
    "           \"INSERT INTO Animal VALUES(9, 'South China tiger', 'exotic', 2.5);\", \n",
    "           \"INSERT INTO Animal VALUES(10, 'Alpaca', 'common', 0.25);\", \n",
    "           \"INSERT INTO Animal VALUES(11, 'Llama', NULL, 3.5);\"]"
   ]
  },
  {
   "cell_type": "code",
   "execution_count": 3,
   "metadata": {},
   "outputs": [],
   "source": [
    "import sqlite3"
   ]
  },
  {
   "cell_type": "code",
   "execution_count": 4,
   "metadata": {},
   "outputs": [],
   "source": [
    "conn = sqlite3.connect('dsc450.db') # open the connection\n",
    "cursor = conn.cursor()"
   ]
  },
  {
   "cell_type": "code",
   "execution_count": 5,
   "metadata": {},
   "outputs": [],
   "source": [
    "cursor.execute(createtbl)   # create the Animal table\n",
    "for ins in inserts:         # insert the rows\n",
    "    cursor.execute(ins)"
   ]
  },
  {
   "cell_type": "code",
   "execution_count": 6,
   "metadata": {},
   "outputs": [],
   "source": [
    "cursor.execute('SELECT * FROM Animal')\n",
    "table = cursor.fetchall()"
   ]
  },
  {
   "cell_type": "code",
   "execution_count": 7,
   "metadata": {},
   "outputs": [],
   "source": [
    "#exporting\n",
    "with open('animal.txt','wb') as outfile:\n",
    "    cursor = conn.cursor()\n",
    "    for row in cursor.execute('SELECT * FROM Animal'):\n",
    "        erow = ','.join([str(i) for i in row]) + '\\n'\n",
    "        outfile.write(erow.encode())"
   ]
  },
  {
   "cell_type": "code",
   "execution_count": 8,
   "metadata": {},
   "outputs": [],
   "source": [
    "outfile.close()\n",
    "conn.commit()\n",
    "conn.close()"
   ]
  },
  {
   "cell_type": "code",
   "execution_count": null,
   "metadata": {},
   "outputs": [],
   "source": [
    "    "
   ]
  }
 ],
 "metadata": {
  "kernelspec": {
   "display_name": "Python 3.7.3 64-bit ('14023': virtualenv)",
   "language": "python",
   "name": "python37364bit14023virtualenv43d760947b1c41cea019d510c4f98b52"
  },
  "language_info": {
   "codemirror_mode": {
    "name": "ipython",
    "version": 3
   },
   "file_extension": ".py",
   "mimetype": "text/x-python",
   "name": "python",
   "nbconvert_exporter": "python",
   "pygments_lexer": "ipython3",
   "version": "3.7.3"
  }
 },
 "nbformat": 4,
 "nbformat_minor": 4
}
