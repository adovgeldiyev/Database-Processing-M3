{
 "cells": [
  {
   "cell_type": "code",
   "execution_count": 1,
   "metadata": {},
   "outputs": [],
   "source": [
    "import sqlite3"
   ]
  },
  {
   "cell_type": "code",
   "execution_count": 4,
   "metadata": {},
   "outputs": [],
   "source": [
    "def executeMany():\n",
    "    createtbl = \"\"\"\n",
    "    CREATE TABLE Animal\n",
    "    (\n",
    "      AID       NUMBER(3, 0),\n",
    "      AName      VARCHAR2(30) NOT NULL,\n",
    "      ACategory VARCHAR2(18),\n",
    "\n",
    "      TimeToFeed NUMBER(4,2),\n",
    "\n",
    "      CONSTRAINT Animal_PK\n",
    "        PRIMARY KEY(AID)\n",
    "    );\n",
    "    \"\"\"\n",
    "    conn = sqlite3.connect('dsc450.db') # open the connection\n",
    "    cursor = conn.cursor()\n",
    "    cursor.execute('DROP TABLE Animal')#because database has the table we are dropping it\n",
    "    cursor.execute(createtbl)\n",
    "    insert = \"INSERT INTO ANIMAL VALUES ('%d','%s','%s','%d');\"\n"
   ]
  },
  {
   "cell_type": "code",
   "execution_count": null,
   "metadata": {},
   "outputs": [],
   "source": []
  },
  {
   "cell_type": "code",
   "execution_count": null,
   "metadata": {},
   "outputs": [],
   "source": []
  }
 ],
 "metadata": {
  "kernelspec": {
   "display_name": "Python 3.7.3 64-bit ('14023': virtualenv)",
   "language": "python",
   "name": "python37364bit14023virtualenv43d760947b1c41cea019d510c4f98b52"
  },
  "language_info": {
   "codemirror_mode": {
    "name": "ipython",
    "version": 3
   },
   "file_extension": ".py",
   "mimetype": "text/x-python",
   "name": "python",
   "nbconvert_exporter": "python",
   "pygments_lexer": "ipython3",
   "version": "3.7.3"
  }
 },
 "nbformat": 4,
 "nbformat_minor": 4
}
